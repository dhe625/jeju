{
 "cells": [
  {
   "cell_type": "code",
   "execution_count": 4,
   "metadata": {},
   "outputs": [],
   "source": [
    "import pandas as pd\n",
    "\n",
    "df = pd.read_csv(\"/Users/leedonghyeok/Desktop/data_jeju/(all) JTO_TOURINFO_CNSLT_관광정보 상담데이터 5종_2021/20.쇼핑/JT_TOURINFO_CNSLT_SHOPNG_LIST_202101.csv\")\n",
    "df1 = df[df['CNSLT_SCLAS_NM'] == '전통시장']\n",
    "\n",
    "df = pd.read_csv(\"/Users/leedonghyeok/Desktop/data_jeju/(all) JTO_TOURINFO_CNSLT_관광정보 상담데이터 5종_2021/20.쇼핑/JT_TOURINFO_CNSLT_SHOPNG_LIST_202102.csv\")\n",
    "df2 = df[df['CNSLT_SCLAS_NM'] == '전통시장']\n",
    "\n",
    "df = pd.read_csv(\"/Users/leedonghyeok/Desktop/data_jeju/(all) JTO_TOURINFO_CNSLT_관광정보 상담데이터 5종_2021/20.쇼핑/JT_TOURINFO_CNSLT_SHOPNG_LIST_202103.csv\")\n",
    "df3 = df[df['CNSLT_SCLAS_NM'] == '전통시장']\n",
    "\n",
    "df = pd.read_csv(\"/Users/leedonghyeok/Desktop/data_jeju/(all) JTO_TOURINFO_CNSLT_관광정보 상담데이터 5종_2021/20.쇼핑/JT_TOURINFO_CNSLT_SHOPNG_LIST_202104.csv\")\n",
    "df4 = df[df['CNSLT_SCLAS_NM'] == '전통시장']\n",
    "\n",
    "df = pd.read_csv(\"/Users/leedonghyeok/Desktop/data_jeju/(all) JTO_TOURINFO_CNSLT_관광정보 상담데이터 5종_2021/20.쇼핑/JT_TOURINFO_CNSLT_SHOPNG_LIST_202105.csv\")\n",
    "df5 = df[df['CNSLT_SCLAS_NM'] == '전통시장']\n",
    "\n",
    "df = pd.read_csv(\"/Users/leedonghyeok/Desktop/data_jeju/(all) JTO_TOURINFO_CNSLT_관광정보 상담데이터 5종_2021/20.쇼핑/JT_TOURINFO_CNSLT_SHOPNG_LIST_202106.csv\")\n",
    "df6 = df[df['CNSLT_SCLAS_NM'] == '전통시장']\n",
    "\n",
    "df = pd.read_csv(\"/Users/leedonghyeok/Desktop/data_jeju/(all) JTO_TOURINFO_CNSLT_관광정보 상담데이터 5종_2021/20.쇼핑/JT_TOURINFO_CNSLT_SHOPNG_LIST_202107.csv\")\n",
    "df7 = df[df['CNSLT_SCLAS_NM'] == '전통시장']\n",
    "\n",
    "df = pd.read_csv(\"/Users/leedonghyeok/Desktop/data_jeju/(all) JTO_TOURINFO_CNSLT_관광정보 상담데이터 5종_2021/20.쇼핑/JT_TOURINFO_CNSLT_SHOPNG_LIST_202108.csv\")\n",
    "df8 = df[df['CNSLT_SCLAS_NM'] == '전통시장']\n",
    "\n",
    "df = pd.read_csv(\"/Users/leedonghyeok/Desktop/data_jeju/(all) JTO_TOURINFO_CNSLT_관광정보 상담데이터 5종_2021/20.쇼핑/JT_TOURINFO_CNSLT_SHOPNG_LIST_202109.csv\")\n",
    "df9 = df[df['CNSLT_SCLAS_NM'] == '전통시장']\n",
    "\n",
    "df = pd.read_csv(\"/Users/leedonghyeok/Desktop/data_jeju/(all) JTO_TOURINFO_CNSLT_관광정보 상담데이터 5종_2021/20.쇼핑/JT_TOURINFO_CNSLT_SHOPNG_LIST_202110.csv\")\n",
    "df10 = df[df['CNSLT_SCLAS_NM'] == '전통시장']\n",
    "\n",
    "df = pd.read_csv(\"/Users/leedonghyeok/Desktop/data_jeju/(all) JTO_TOURINFO_CNSLT_관광정보 상담데이터 5종_2021/20.쇼핑/JT_TOURINFO_CNSLT_SHOPNG_LIST_202111.csv\")\n",
    "df11 = df[df['CNSLT_SCLAS_NM'] == '전통시장']\n",
    "\n",
    "df = pd.read_csv(\"/Users/leedonghyeok/Desktop/data_jeju/(all) JTO_TOURINFO_CNSLT_관광정보 상담데이터 5종_2021/20.쇼핑/JT_TOURINFO_CNSLT_SHOPNG_LIST_202112.csv\")\n",
    "df12 = df[df['CNSLT_SCLAS_NM'] == '전통시장']"
   ]
  },
  {
   "cell_type": "code",
   "execution_count": 8,
   "metadata": {},
   "outputs": [
    {
     "data": {
      "text/plain": [
       "운영시간    39\n",
       "오일장     24\n",
       "개장      21\n",
       "정상운영    15\n",
       "연락처     15\n",
       "Name: CNSLT_KWRD_RN1_NM, dtype: int64"
      ]
     },
     "execution_count": 8,
     "metadata": {},
     "output_type": "execute_result"
    }
   ],
   "source": [
    "counsel = pd.concat([df1, df2, df3, df4, df5, df6, df7, df8, df9, df10, df11, df12])\n",
    "\n",
    "counsel['CNSLT_KWRD_RN1_NM'].value_counts().head(5)"
   ]
  },
  {
   "cell_type": "code",
   "execution_count": 9,
   "metadata": {
    "scrolled": true
   },
   "outputs": [
    {
     "data": {
      "text/plain": [
       "오일장     33\n",
       "야시장     20\n",
       "동문시장    17\n",
       "문자      16\n",
       "위판장     12\n",
       "Name: CNSLT_KWRD_RN2_NM, dtype: int64"
      ]
     },
     "execution_count": 9,
     "metadata": {},
     "output_type": "execute_result"
    }
   ],
   "source": [
    "counsel['CNSLT_KWRD_RN2_NM'].value_counts().head(5)"
   ]
  },
  {
   "cell_type": "code",
   "execution_count": 10,
   "metadata": {},
   "outputs": [
    {
     "data": {
      "text/plain": [
       "오일장     23\n",
       "동문시장    14\n",
       "이용      13\n",
       "이용시간    11\n",
       "서귀포     10\n",
       "Name: CNSLT_KWRD_RN3_NM, dtype: int64"
      ]
     },
     "execution_count": 10,
     "metadata": {},
     "output_type": "execute_result"
    }
   ],
   "source": [
    "counsel['CNSLT_KWRD_RN3_NM'].value_counts().head(5)"
   ]
  },
  {
   "cell_type": "code",
   "execution_count": null,
   "metadata": {},
   "outputs": [],
   "source": [
    "# 시장 정보가 부족하다는 인사이트가 도출 가능"
   ]
  }
 ],
 "metadata": {
  "kernelspec": {
   "display_name": "Python 3",
   "language": "python",
   "name": "python3"
  },
  "language_info": {
   "codemirror_mode": {
    "name": "ipython",
    "version": 3
   },
   "file_extension": ".py",
   "mimetype": "text/x-python",
   "name": "python",
   "nbconvert_exporter": "python",
   "pygments_lexer": "ipython3",
   "version": "3.8.5"
  }
 },
 "nbformat": 4,
 "nbformat_minor": 4
}
