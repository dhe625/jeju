{
 "cells": [
  {
   "cell_type": "code",
   "execution_count": 28,
   "id": "b239e2fc",
   "metadata": {},
   "outputs": [
    {
     "ename": "SyntaxError",
     "evalue": "unexpected EOF while parsing (4195932476.py, line 5)",
     "output_type": "error",
     "traceback": [
      "\u001b[1;36m  Input \u001b[1;32mIn [28]\u001b[1;36m\u001b[0m\n\u001b[1;33m    korean=food[food.values_counts()\u001b[0m\n\u001b[1;37m                                    ^\u001b[0m\n\u001b[1;31mSyntaxError\u001b[0m\u001b[1;31m:\u001b[0m unexpected EOF while parsing\n"
     ]
    }
   ],
   "source": [
    "import pandas as pd\n",
    "df=pd.read_csv('C:/Users/82109/Desktop/해커톤/4. 제주 관광 빅데이터 센터 데이터(필수 활용)/1. 제주관광공사 데이터/(all) JT_SHP_SALES_VARTION_LIST_카드사 음식 급상승 데이터_2021/JT_SHP_SALES_VARTION_LIST_202101.csv',delimiter=',')\n",
    "\n",
    "food=df[['MLSFC_NM']]\n",
    "korean=food[food.values_counts()"
   ]
  }
 ],
 "metadata": {
  "kernelspec": {
   "display_name": "Python 3 (ipykernel)",
   "language": "python",
   "name": "python3"
  },
  "language_info": {
   "codemirror_mode": {
    "name": "ipython",
    "version": 3
   },
   "file_extension": ".py",
   "mimetype": "text/x-python",
   "name": "python",
   "nbconvert_exporter": "python",
   "pygments_lexer": "ipython3",
   "version": "3.9.12"
  }
 },
 "nbformat": 4,
 "nbformat_minor": 5
}
